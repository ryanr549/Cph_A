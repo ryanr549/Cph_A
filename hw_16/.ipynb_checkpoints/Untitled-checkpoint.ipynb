{
 "cells": [
  {
   "cell_type": "code",
   "execution_count": 1,
   "id": "c8d8d414-77d6-438f-ac3d-9f164874b018",
   "metadata": {},
   "outputs": [],
   "source": [
    "import numpy as np\n",
    "import matplotlib as mpl"
   ]
  },
  {
   "cell_type": "code",
   "execution_count": 2,
   "id": "94d822b8-9f7f-434c-942a-95906929bf9f",
   "metadata": {},
   "outputs": [],
   "source": [
    "data1 = np.loadtxt('box.dat')"
   ]
  },
  {
   "cell_type": "code",
   "execution_count": 3,
   "id": "d708b97f-b1eb-4a81-bef9-2e5ddd611251",
   "metadata": {},
   "outputs": [
    {
     "data": {
      "text/plain": [
       "array([[1.0000e+00, 1.5917e+04],\n",
       "       [2.0000e+00, 1.0565e+04],\n",
       "       [4.0000e+00, 4.7120e+03],\n",
       "       [8.0000e+00, 1.7510e+03],\n",
       "       [1.6000e+01, 5.9300e+02],\n",
       "       [3.2000e+01, 1.8500e+02],\n",
       "       [6.4000e+01, 5.5000e+01],\n",
       "       [1.2800e+02, 1.6000e+01]])"
      ]
     },
     "execution_count": 3,
     "metadata": {},
     "output_type": "execute_result"
    }
   ],
   "source": [
    "data1"
   ]
  },
  {
   "cell_type": "code",
   "execution_count": 4,
   "id": "cff77ec6-bc2c-41ad-ae5b-691d314c481a",
   "metadata": {},
   "outputs": [
    {
     "data": {
      "text/plain": [
       "array([2.0000e+00, 1.0565e+04])"
      ]
     },
     "execution_count": 4,
     "metadata": {},
     "output_type": "execute_result"
    }
   ],
   "source": [
    "data1[1]"
   ]
  },
  {
   "cell_type": "code",
   "execution_count": 5,
   "id": "d0251df4-537e-4afc-a0c9-411209c7c2d7",
   "metadata": {},
   "outputs": [],
   "source": [
    "data = data1.transpose()"
   ]
  },
  {
   "cell_type": "code",
   "execution_count": 6,
   "id": "fefd25fc-e94c-4cff-b27c-9d3d1f5713a7",
   "metadata": {},
   "outputs": [
    {
     "data": {
      "text/plain": [
       "array([[1.0000e+00, 2.0000e+00, 4.0000e+00, 8.0000e+00, 1.6000e+01,\n",
       "        3.2000e+01, 6.4000e+01, 1.2800e+02],\n",
       "       [1.5917e+04, 1.0565e+04, 4.7120e+03, 1.7510e+03, 5.9300e+02,\n",
       "        1.8500e+02, 5.5000e+01, 1.6000e+01]])"
      ]
     },
     "execution_count": 6,
     "metadata": {},
     "output_type": "execute_result"
    }
   ],
   "source": [
    "data"
   ]
  },
  {
   "cell_type": "code",
   "execution_count": 7,
   "id": "bd4b2b0c-3004-4b87-944d-269b37f839a9",
   "metadata": {},
   "outputs": [],
   "source": [
    "eps = data[0]\n",
    "N = data[1]"
   ]
  },
  {
   "cell_type": "code",
   "execution_count": 8,
   "id": "6baded65-d43d-4518-8c3b-d952de47e9eb",
   "metadata": {},
   "outputs": [],
   "source": [
    "import matplotlib.pyplot as plt"
   ]
  },
  {
   "cell_type": "code",
   "execution_count": 18,
   "id": "09556edc-c1f2-455b-a863-b22c096acf6a",
   "metadata": {},
   "outputs": [
    {
     "data": {
      "text/plain": [
       "<matplotlib.collections.PathCollection at 0x7f36f358bb20>"
      ]
     },
     "execution_count": 18,
     "metadata": {},
     "output_type": "execute_result"
    },
    {
     "data": {
      "image/png": "[encoded data removed]",
      "text/plain": [
       "<Figure size 432x288 with 1 Axes>"
      ]
     },
     "metadata": {
      "needs_background": "light"
     },
     "output_type": "display_data"
    }
   ],
   "source": [
    "plt.scatter(np.log(N), np.log(1/eps))"
   ]
  },
  {
   "cell_type": "code",
   "execution_count": 11,
   "id": "52d197ee-b02b-4ba9-aaa0-6b24483f5b2c",
   "metadata": {},
   "outputs": [],
   "source": [
    "from scipy import optimize"
   ]
  },
  {
   "cell_type": "code",
   "execution_count": 13,
   "id": "ab4932a9-b8ab-44a3-a91e-865df9fc717a",
   "metadata": {},
   "outputs": [],
   "source": [
    "def func(x, k, b):\n",
    "    return k * x + b"
   ]
  },
  {
   "cell_type": "code",
   "execution_count": 14,
   "id": "bb187e5c-4531-4922-b190-3166e38f79e0",
   "metadata": {},
   "outputs": [],
   "source": [
    " popt, pcov = optimize.curve_fit(func, np.log(N), np.log(1/eps))"
   ]
  },
  {
   "cell_type": "code",
   "execution_count": 15,
   "id": "455557f3-85e3-4251-b1dd-00085ee04f3c",
   "metadata": {},
   "outputs": [
    {
     "data": {
      "text/plain": [
       "array([ 0.67176958, -6.89762642])"
      ]
     },
     "execution_count": 15,
     "metadata": {},
     "output_type": "execute_result"
    }
   ],
   "source": [
    "popt"
   ]
  },
  {
   "cell_type": "code",
   "execution_count": 17,
   "id": "f631a6c0-2585-4dcf-8dc8-ace2381660e8",
   "metadata": {},
   "outputs": [
    {
     "data": {
      "text/plain": [
       "[<matplotlib.lines.Line2D at 0x7f36f3d65510>]"
      ]
     },
     "execution_count": 17,
     "metadata": {},
     "output_type": "execute_result"
    },
    {
     "data": {
      "image/png": "[encoded data removed]",
      "text/plain": [
       "<Figure size 432x288 with 1 Axes>"
      ]
     },
     "metadata": {
      "needs_background": "light"
     },
     "output_type": "display_data"
    }
   ],
   "source": [
    "x1 = np.arange(2, 10, 0.1)\n",
    "y1 = popt[0] * x1 + popt[1]\n",
    "plt.plot(x1, y1)\n",
    "plt.scatter(np.log())"
   ]
  },
  {
   "cell_type": "code",
   "execution_count": null,
   "id": "3b67caf8-bbf7-4e56-9d47-7acdac8c6ad5",
   "metadata": {},
   "outputs": [],
   "source": []
  }
 ],
 "metadata": {
  "kernelspec": {
   "display_name": "Python 3 (ipykernel)",
   "language": "python",
   "name": "python3"
  },
  "language_info": {
   "codemirror_mode": {
    "name": "ipython",
    "version": 3
   },
   "file_extension": ".py",
   "mimetype": "text/x-python",
   "name": "python",
   "nbconvert_exporter": "python",
   "pygments_lexer": "ipython3",
   "version": "3.10.1"
  }
 },
 "nbformat": 4,
 "nbformat_minor": 5
}
